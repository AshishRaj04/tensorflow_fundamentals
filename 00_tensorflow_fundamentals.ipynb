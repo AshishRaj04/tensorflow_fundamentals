{
 "cells": [
  {
   "cell_type": "markdown",
   "id": "e2279160-798b-4216-9cda-30bfe1a181e6",
   "metadata": {},
   "source": [
    "# Tensors using tensorflow"
   ]
  },
  {
   "cell_type": "markdown",
   "id": "e4a1e595-e1cf-4885-8444-c1ff2337b5ae",
   "metadata": {},
   "source": [
    "More specifically , we're going to cover :\n",
    "- Intro to tensors\n",
    "- Getting info from tensor\n",
    "- Manipulating tensors\n",
    "- Tensors & NumPy\n",
    "- Using @tf.function (a way to speed up your regular Python Function)\n",
    "- Using GPUs with TensorFlow (or TPUs)\n",
    "- Exercise to try for yourself"
   ]
  },
  {
   "cell_type": "markdown",
   "id": "8d20e265-d546-46db-9175-89c3ea98c6c8",
   "metadata": {},
   "source": [
    "# Introduction to TensorFlow"
   ]
  },
  {
   "cell_type": "code",
   "execution_count": 2,
   "id": "5c250a7b-7b21-4b9c-8b12-9926cc72d70e",
   "metadata": {},
   "outputs": [
    {
     "name": "stdout",
     "output_type": "stream",
     "text": [
      "2.16.1\n"
     ]
    }
   ],
   "source": [
    "import tensorflow as tf\n",
    "print(tf.__version__)"
   ]
  },
  {
   "cell_type": "code",
   "execution_count": 3,
   "id": "78eef66f-1f2f-417a-805d-890671a7085d",
   "metadata": {},
   "outputs": [
    {
     "data": {
      "text/plain": [
       "<tf.Tensor: shape=(), dtype=int32, numpy=7>"
      ]
     },
     "execution_count": 3,
     "metadata": {},
     "output_type": "execute_result"
    }
   ],
   "source": [
    "scalar = tf.constant(7)\n",
    "scalar"
   ]
  },
  {
   "cell_type": "code",
   "execution_count": 4,
   "id": "b6efc333-499f-4693-9daf-141ac139641b",
   "metadata": {},
   "outputs": [
    {
     "data": {
      "text/plain": [
       "<tf.Tensor: shape=(2,), dtype=int32, numpy=array([10, 20])>"
      ]
     },
     "execution_count": 4,
     "metadata": {},
     "output_type": "execute_result"
    }
   ],
   "source": [
    "\n",
    "vector = tf.constant([10 , 20])\n",
    "vector"
   ]
  },
  {
   "cell_type": "code",
   "execution_count": 5,
   "id": "08b1832f-bed0-4909-a379-29b508f68d0e",
   "metadata": {},
   "outputs": [
    {
     "name": "stdout",
     "output_type": "stream",
     "text": [
      "0\n",
      "1\n"
     ]
    }
   ],
   "source": [
    "print(scalar.ndim)\n",
    "print(vector.ndim)"
   ]
  },
  {
   "cell_type": "code",
   "execution_count": 6,
   "id": "6675e6d0-e92c-4069-900a-c448b95ea092",
   "metadata": {},
   "outputs": [],
   "source": [
    "matrix = tf.constant([[10 , 20],\n",
    "                     [30,40]])"
   ]
  },
  {
   "cell_type": "code",
   "execution_count": 7,
   "id": "9e03dc44-6672-4dab-ae9b-e0f9c5fc726f",
   "metadata": {},
   "outputs": [
    {
     "name": "stdout",
     "output_type": "stream",
     "text": [
      "tf.Tensor(\n",
      "[[10 20]\n",
      " [30 40]], shape=(2, 2), dtype=int32)\n",
      "2\n"
     ]
    }
   ],
   "source": [
    "print(matrix)\n",
    "print(matrix.ndim)"
   ]
  },
  {
   "cell_type": "code",
   "execution_count": 8,
   "id": "9df7d5ca-ce1a-4df4-8db9-a0f44becff56",
   "metadata": {},
   "outputs": [
    {
     "name": "stdout",
     "output_type": "stream",
     "text": [
      "tf.Tensor(\n",
      "[[[4. 4.]\n",
      "  [4. 4.]\n",
      "  [4. 4.]]\n",
      "\n",
      " [[4. 4.]\n",
      "  [4. 4.]\n",
      "  [4. 4.]]\n",
      "\n",
      " [[4. 4.]\n",
      "  [4. 4.]\n",
      "  [4. 4.]]\n",
      "\n",
      " [[4. 4.]\n",
      "  [4. 4.]\n",
      "  [4. 4.]]], shape=(4, 3, 2), dtype=float16)\n",
      "3\n"
     ]
    }
   ],
   "source": [
    "threeDTensor = tf.constant(4 , shape = (4,3,2) , dtype = tf.float16 )\n",
    "print(threeDTensor)\n",
    "print(threeDTensor.ndim)"
   ]
  },
  {
   "cell_type": "markdown",
   "id": "9707e28f-67ef-4ac3-a61a-06813c24720e",
   "metadata": {},
   "source": [
    "What we have created so far :\n",
    "* Scalar : a single number\n",
    "* Vector : a number with direction\n",
    "* Matrix : a 2-dimentional array of numbers\n",
    "* Tensor : a n-dimentional array of numbers\n",
    "* In fact all are tensors with different dimentions ."
   ]
  },
  {
   "cell_type": "markdown",
   "id": "f9fdc801-b2c7-491b-b286-306f67a84b1d",
   "metadata": {},
   "source": [
    "## tf.variable\n",
    "The Variable() constructor requires an initial value for the variable, which can be a Tensor of any type and shape. This initial value defines the type and shape of the variable. After construction, the type and shape of the variable are fixed. The value can be changed"
   ]
  },
  {
   "cell_type": "code",
   "execution_count": 9,
   "id": "65a3457d-6547-4931-b9a1-18de82bf5d21",
   "metadata": {},
   "outputs": [
    {
     "data": {
      "text/plain": [
       "<tf.Variable 'Variable:0' shape=(2,) dtype=int32, numpy=array([10,  4])>"
      ]
     },
     "execution_count": 9,
     "metadata": {},
     "output_type": "execute_result"
    }
   ],
   "source": [
    "var = tf.Variable([10,4])\n",
    "var"
   ]
  },
  {
   "cell_type": "code",
   "execution_count": 10,
   "id": "b173e80a-42a1-4e8c-bdad-2af586ad9e7e",
   "metadata": {},
   "outputs": [
    {
     "data": {
      "text/plain": [
       "<tf.Variable 'UnreadVariable' shape=(2,) dtype=int32, numpy=array([12,  5])>"
      ]
     },
     "execution_count": 10,
     "metadata": {},
     "output_type": "execute_result"
    }
   ],
   "source": [
    "var.assign([12,5])"
   ]
  },
  {
   "cell_type": "code",
   "execution_count": 11,
   "id": "568866a8-d46c-4ceb-ae80-7250a522df6a",
   "metadata": {},
   "outputs": [
    {
     "data": {
      "text/plain": [
       "<tf.Variable 'UnreadVariable' shape=(2,) dtype=int32, numpy=array([14,  8])>"
      ]
     },
     "execution_count": 11,
     "metadata": {},
     "output_type": "execute_result"
    }
   ],
   "source": [
    "var.assign_add([2,3])"
   ]
  },
  {
   "cell_type": "markdown",
   "id": "30a8e249-5763-4706-a581-ebcceb14a04f",
   "metadata": {},
   "source": [
    "🗝️ Which one should you use? tf.constant() or tf.Variable()?\r\n",
    "\r\n",
    "It will depend on what your problem requires. However, most of the time, TensorFlow will automatically choose for you (when loading data or modelling data)."
   ]
  },
  {
   "cell_type": "markdown",
   "id": "efffcd85-48dd-43ca-b686-6ebdaaf77e12",
   "metadata": {},
   "source": [
    "## Creating random tensors"
   ]
  },
  {
   "cell_type": "markdown",
   "id": "25fbdee2-8e83-412a-884d-fea1df414eb2",
   "metadata": {},
   "source": [
    "Random tensor are tensors of random numbers ."
   ]
  },
  {
   "cell_type": "markdown",
   "id": "154a3922-7837-475b-920f-8db2e1b9240d",
   "metadata": {},
   "source": [
    "### tf.random.uniform\n",
    "Outputs random values from a uniform distribution.\n",
    "\n",
    "### tf.random.normal\n",
    "Outputs random values from a normal distribution."
   ]
  },
  {
   "cell_type": "code",
   "execution_count": 12,
   "id": "0e07ecf5-6bc2-4944-b7db-394f0c1706a0",
   "metadata": {},
   "outputs": [
    {
     "data": {
      "text/plain": [
       "(<tf.Tensor: shape=(3, 4), dtype=float32, numpy=\n",
       " array([[3.2527862, 3.0596864, 3.5169144, 3.0169768],\n",
       "        [2.6883075, 2.6391954, 3.3833   , 2.5330508],\n",
       "        [2.074568 , 2.4039161, 2.5551438, 2.2902877]], dtype=float32)>,\n",
       " <tf.Tensor: shape=(3, 4), dtype=float32, numpy=\n",
       " array([[3.2527862, 3.0596864, 3.5169144, 3.0169768],\n",
       "        [2.6883075, 2.6391954, 3.3833   , 2.5330508],\n",
       "        [2.074568 , 2.4039161, 2.5551438, 2.2902877]], dtype=float32)>,\n",
       " <tf.Tensor: shape=(3, 4), dtype=bool, numpy=\n",
       " array([[ True,  True,  True,  True],\n",
       "        [ True,  True,  True,  True],\n",
       "        [ True,  True,  True,  True]])>)"
      ]
     },
     "execution_count": 12,
     "metadata": {},
     "output_type": "execute_result"
    }
   ],
   "source": [
    "tf.random.set_seed(5) # to create a reproducible sequence of tensors across multiple calls.\n",
    "rand1 = tf.random.uniform(shape = (3,4) , minval = 2 , maxval = 4 , dtype = tf.float32)\n",
    "tf.random.set_seed(5)\n",
    "rand2 = tf.random.uniform(shape = (3,4) , minval = 2 , maxval = 4 , dtype = tf.float32)\n",
    "\n",
    "rand1 , rand2 , rand1 == rand2"
   ]
  },
  {
   "cell_type": "code",
   "execution_count": 13,
   "id": "ba0cf3a6-6acc-4248-a25a-fd8ddc21b416",
   "metadata": {},
   "outputs": [
    {
     "data": {
      "text/plain": [
       "(<tf.Tensor: shape=(1,), dtype=float32, numpy=array([3.3085065], dtype=float32)>,\n",
       " <tf.Tensor: shape=(3, 4), dtype=float32, numpy=\n",
       " array([[ 3.3085065 , -3.7281384 ,  6.1367197 , -1.1217556 ],\n",
       "        [ 1.9971324 ,  2.508434  ,  4.746893  ,  3.6537461 ],\n",
       "        [ 1.5950904 ,  1.8138397 ,  0.91279435,  2.0708082 ]],\n",
       "       dtype=float32)>,\n",
       " <tf.Tensor: shape=(3, 4), dtype=bool, numpy=\n",
       " array([[ True, False, False, False],\n",
       "        [False, False, False, False],\n",
       "        [False, False, False, False]])>)"
      ]
     },
     "execution_count": 13,
     "metadata": {},
     "output_type": "execute_result"
    }
   ],
   "source": [
    "tf.random.set_seed(2)\n",
    "rand3 = tf.random.normal(shape = (1,) , mean = 2 , stddev = 3 , dtype = tf.float32 )\n",
    "rand3\n",
    "tf.random.set_seed(2)\n",
    "rand4 = tf.random.normal(shape = (3,4) , mean = 2 , stddev = 3 , dtype = tf.float32)\n",
    "rand3 , rand4 , rand3 == rand4"
   ]
  },
  {
   "cell_type": "markdown",
   "id": "abc80131-55ef-4d77-a06f-612d177fc572",
   "metadata": {},
   "source": [
    "## Seeding\n",
    "1. Global Seed\n",
    "2. Operational-level Seed"
   ]
  },
  {
   "cell_type": "code",
   "execution_count": 40,
   "id": "47454c20-680f-4085-b79c-3d1d46b5bc74",
   "metadata": {},
   "outputs": [
    {
     "data": {
      "text/plain": [
       "(<tf.Tensor: shape=(2, 3), dtype=float32, numpy=\n",
       " array([[1.8196933, 1.0497137, 1.9603595],\n",
       "        [1.2574594, 3.3231523, 1.381452 ]], dtype=float32)>,\n",
       " <tf.Tensor: shape=(2, 3), dtype=float32, numpy=\n",
       " array([[2.2265286, 2.8106554, 2.7466094],\n",
       "        [2.7749703, 2.7244873, 3.4217405]], dtype=float32)>)"
      ]
     },
     "execution_count": 40,
     "metadata": {},
     "output_type": "execute_result"
    }
   ],
   "source": [
    "# 1. If neither the global seed nor the operation seed is set, we get different results for every call to the random op and every re-run of the program:\n",
    "a = tf.random.normal((2,3) , 2 , 1)\n",
    "b = tf.random.normal((2,3) , 2 , 1)\n",
    "a , b"
   ]
  },
  {
   "cell_type": "code",
   "execution_count": 41,
   "id": "78869f75-2c69-4f63-a1b7-772418b2133c",
   "metadata": {},
   "outputs": [
    {
     "data": {
      "text/plain": [
       "(<tf.Tensor: shape=(2, 3), dtype=float32, numpy=\n",
       " array([[2.2265286, 2.8106554, 2.7466094],\n",
       "        [2.7749703, 2.7244873, 3.4217405]], dtype=float32)>,\n",
       " <tf.Tensor: shape=(2, 3), dtype=float32, numpy=\n",
       " array([[1.8196933, 1.0497137, 1.9603595],\n",
       "        [1.2574594, 3.3231523, 1.381452 ]], dtype=float32)>)"
      ]
     },
     "execution_count": 41,
     "metadata": {},
     "output_type": "execute_result"
    }
   ],
   "source": [
    "# 2. If the global seed is set but the operation seed is not set, we get different results for every call to the random op, but the same sequence for \n",
    "# every re-run of the program:\n",
    "tf.random.set_seed(5)\n",
    "b = tf.random.normal((2,3) , 2 , 1 )\n",
    "a = tf.random.normal((2,3) , 2 , 1 )\n",
    "\n",
    "a , b"
   ]
  },
  {
   "cell_type": "code",
   "execution_count": 16,
   "id": "e40f5527-a0ce-49c4-b231-adf367a76651",
   "metadata": {},
   "outputs": [
    {
     "data": {
      "text/plain": [
       "(<tf.Tensor: shape=(2, 3), dtype=float32, numpy=\n",
       " array([[2.2265286, 2.8106554, 2.7466094],\n",
       "        [2.7749703, 2.7244873, 3.4217405]], dtype=float32)>,\n",
       " <tf.Tensor: shape=(2, 3), dtype=float32, numpy=\n",
       " array([[1.8196933, 1.0497137, 1.9603595],\n",
       "        [1.2574594, 3.3231523, 1.381452 ]], dtype=float32)>)"
      ]
     },
     "execution_count": 16,
     "metadata": {},
     "output_type": "execute_result"
    }
   ],
   "source": [
    "tf.random.set_seed(5)\n",
    "b = tf.random.normal((2,3) , 2 , 1 )\n",
    "a = tf.random.normal((2,3) , 2 , 1 )\n",
    "\n",
    "a , b"
   ]
  },
  {
   "cell_type": "code",
   "execution_count": 17,
   "id": "fb0f5857-f0b2-47e3-8198-fb5c71591e01",
   "metadata": {},
   "outputs": [
    {
     "name": "stdout",
     "output_type": "stream",
     "text": [
      "tf.Tensor([0.3875184], shape=(1,), dtype=float32)\n",
      "tf.Tensor([0.98592305], shape=(1,), dtype=float32)\n"
     ]
    },
    {
     "data": {
      "text/plain": [
       "(None, None)"
      ]
     },
     "execution_count": 17,
     "metadata": {},
     "output_type": "execute_result"
    }
   ],
   "source": [
    "# 3. If the operation seed is set, we get different results for every call to the random op, but the same sequence for every re-run of the program:\n",
    "a = print(tf.random.uniform([1], seed=1))  # generates 'A1'\n",
    "b = print(tf.random.uniform([1], seed=1))  # generates 'A2'\n",
    "a , b"
   ]
  },
  {
   "cell_type": "code",
   "execution_count": 18,
   "id": "a1dcd6f4-62e7-4ab2-9f06-958aa8ea084c",
   "metadata": {},
   "outputs": [
    {
     "name": "stdout",
     "output_type": "stream",
     "text": [
      "tf.Tensor([0.9647], shape=(1,), dtype=float32)\n",
      "tf.Tensor([0.8333188], shape=(1,), dtype=float32)\n"
     ]
    },
    {
     "data": {
      "text/plain": [
       "(None, None)"
      ]
     },
     "execution_count": 18,
     "metadata": {},
     "output_type": "execute_result"
    }
   ],
   "source": [
    "a = print(tf.random.uniform([1], seed=1))  # generates 'A1'\n",
    "b = print(tf.random.uniform([1], seed=1))  # generates 'A2'\n",
    "a , b"
   ]
  },
  {
   "cell_type": "markdown",
   "id": "7bd0801d-e04c-46b5-958a-5ecd85768ec9",
   "metadata": {},
   "source": [
    "## Shuffle the order of the elements in the tensor"
   ]
  },
  {
   "cell_type": "code",
   "execution_count": 19,
   "id": "fab0acc0-3e15-4e23-928c-8ef0bbdc5ae2",
   "metadata": {},
   "outputs": [
    {
     "data": {
      "text/plain": [
       "<tf.Tensor: shape=(3, 4), dtype=float32, numpy=\n",
       "array([[2.6883075, 2.6391954, 3.3833   , 2.5330508],\n",
       "       [2.074568 , 2.4039161, 2.5551438, 2.2902877],\n",
       "       [3.2527862, 3.0596864, 3.5169144, 3.0169768]], dtype=float32)>"
      ]
     },
     "execution_count": 19,
     "metadata": {},
     "output_type": "execute_result"
    }
   ],
   "source": [
    "tf.random.set_seed(5)\n",
    "tf.random.shuffle(rand1 , seed = 5)"
   ]
  },
  {
   "cell_type": "markdown",
   "id": "426ca106-03e9-4233-841c-08033da42117",
   "metadata": {},
   "source": [
    "### Other ways to create tensors"
   ]
  },
  {
   "cell_type": "code",
   "execution_count": 20,
   "id": "77271b76-b39b-4e20-89b8-f28a2634db3a",
   "metadata": {},
   "outputs": [
    {
     "data": {
      "text/plain": [
       "<tf.Tensor: shape=(3, 4), dtype=float32, numpy=\n",
       "array([[1., 1., 1., 1.],\n",
       "       [1., 1., 1., 1.],\n",
       "       [1., 1., 1., 1.]], dtype=float32)>"
      ]
     },
     "execution_count": 20,
     "metadata": {},
     "output_type": "execute_result"
    }
   ],
   "source": [
    "tf.ones(shape = (3,4))"
   ]
  },
  {
   "cell_type": "code",
   "execution_count": 21,
   "id": "de6a73b1-566d-4589-8f69-e2929a2cef2b",
   "metadata": {},
   "outputs": [
    {
     "data": {
      "text/plain": [
       "<tf.Tensor: shape=(3, 4), dtype=float32, numpy=\n",
       "array([[0., 0., 0., 0.],\n",
       "       [0., 0., 0., 0.],\n",
       "       [0., 0., 0., 0.]], dtype=float32)>"
      ]
     },
     "execution_count": 21,
     "metadata": {},
     "output_type": "execute_result"
    }
   ],
   "source": [
    "tf.zeros(shape = (3,4))"
   ]
  },
  {
   "cell_type": "markdown",
   "id": "a1a41577-617b-43ed-a05e-d12e3c05d18b",
   "metadata": {},
   "source": [
    "### turn numpy into tensors\n",
    "tensors can be be run on a GPU for faster calculation"
   ]
  },
  {
   "cell_type": "code",
   "execution_count": 22,
   "id": "16e8840a-28b5-4ac3-a47a-c30350703c56",
   "metadata": {},
   "outputs": [],
   "source": [
    "import numpy as np"
   ]
  },
  {
   "cell_type": "code",
   "execution_count": 23,
   "id": "fad23286-faee-4b49-a3f1-cadb5c584393",
   "metadata": {},
   "outputs": [
    {
     "data": {
      "text/plain": [
       "(array([ 0,  1,  2,  3,  4,  5,  6,  7,  8,  9, 10, 11]),\n",
       " <tf.Tensor: shape=(3, 4), dtype=int32, numpy=\n",
       " array([[ 0,  1,  2,  3],\n",
       "        [ 4,  5,  6,  7],\n",
       "        [ 8,  9, 10, 11]])>)"
      ]
     },
     "execution_count": 23,
     "metadata": {},
     "output_type": "execute_result"
    }
   ],
   "source": [
    "numpy_array = np.arange(0,12,dtype = np.int32)\n",
    "tensor_array = tf.constant(numpy_array , shape = (3,4))\n",
    "numpy_array , tensor_array"
   ]
  },
  {
   "cell_type": "markdown",
   "id": "8daecf35-a83b-4f06-92a6-bbec18f76d55",
   "metadata": {},
   "source": [
    "## Getting information from a tensor\n",
    "When dealing with you should beware of the following attributes :\n",
    "* shape `tenspr.shape`\n",
    "* rank `tensor.ndim`\n",
    "* axis or dimention `tensor[0]` or `tensor[:,1]` - a particular dimention of a tensor\n",
    "* size `tf.size(tensor)`"
   ]
  },
  {
   "cell_type": "code",
   "execution_count": 24,
   "id": "1cafbfcf-0e89-4c0f-8eca-f43852471ebc",
   "metadata": {},
   "outputs": [],
   "source": [
    "@tf.function\n",
    "def tensor_operator(tensor):\n",
    "    print(\"Datatype:\", tensor.dtype)\n",
    "    print(\"Number of dimention:\", tensor.ndim)\n",
    "    print(\"Shape:\", tensor.shape)\n",
    "    print(\"Element along 2 axis:\", tensor.shape[2])\n",
    "    print(\"Element along last axis:\", tensor.shape[-1])"
   ]
  },
  {
   "cell_type": "code",
   "execution_count": 25,
   "id": "bdc983ae-7845-4f06-af2a-af690c2884cb",
   "metadata": {},
   "outputs": [
    {
     "data": {
      "text/plain": [
       "<tf.Tensor: shape=(3, 2, 4, 5), dtype=int16, numpy=\n",
       "array([[[[0, 0, 0, 0, 0],\n",
       "         [0, 0, 0, 0, 0],\n",
       "         [0, 0, 0, 0, 0],\n",
       "         [0, 0, 0, 0, 0]],\n",
       "\n",
       "        [[0, 0, 0, 0, 0],\n",
       "         [0, 0, 0, 0, 0],\n",
       "         [0, 0, 0, 0, 0],\n",
       "         [0, 0, 0, 0, 0]]],\n",
       "\n",
       "\n",
       "       [[[0, 0, 0, 0, 0],\n",
       "         [0, 0, 0, 0, 0],\n",
       "         [0, 0, 0, 0, 0],\n",
       "         [0, 0, 0, 0, 0]],\n",
       "\n",
       "        [[0, 0, 0, 0, 0],\n",
       "         [0, 0, 0, 0, 0],\n",
       "         [0, 0, 0, 0, 0],\n",
       "         [0, 0, 0, 0, 0]]],\n",
       "\n",
       "\n",
       "       [[[0, 0, 0, 0, 0],\n",
       "         [0, 0, 0, 0, 0],\n",
       "         [0, 0, 0, 0, 0],\n",
       "         [0, 0, 0, 0, 0]],\n",
       "\n",
       "        [[0, 0, 0, 0, 0],\n",
       "         [0, 0, 0, 0, 0],\n",
       "         [0, 0, 0, 0, 0],\n",
       "         [0, 0, 0, 0, 0]]]], dtype=int16)>"
      ]
     },
     "execution_count": 25,
     "metadata": {},
     "output_type": "execute_result"
    }
   ],
   "source": [
    "D4_tensor = tf.zeros(shape = (3,2,4,5) , dtype = tf.int16)\n",
    "D4_tensor"
   ]
  },
  {
   "cell_type": "code",
   "execution_count": 26,
   "id": "465f790c-374d-4eac-a6d1-034d1cd1570a",
   "metadata": {},
   "outputs": [
    {
     "name": "stdout",
     "output_type": "stream",
     "text": [
      "Datatype: <dtype: 'int16'>\n",
      "Number of dimention: 4\n",
      "Shape: (3, 2, 4, 5)\n",
      "Element along 2 axis: 4\n",
      "Element along last axis: 5\n"
     ]
    }
   ],
   "source": [
    "tensor_operator(D4_tensor)"
   ]
  },
  {
   "cell_type": "code",
   "execution_count": 27,
   "id": "7da824cb-1714-4f29-b726-5eedd5259b23",
   "metadata": {},
   "outputs": [
    {
     "data": {
      "text/plain": [
       "12"
      ]
     },
     "execution_count": 27,
     "metadata": {},
     "output_type": "execute_result"
    }
   ],
   "source": [
    "t = tf.constant([[[1, 1, 1], [2, 2, 2]], [[3, 3, 3], [4, 4, 4]]])\n",
    "tf.size(t).numpy()"
   ]
  },
  {
   "cell_type": "markdown",
   "id": "400c0683-8384-4002-a8be-16164be28893",
   "metadata": {},
   "source": [
    "##  Indexing and expanding tensors"
   ]
  },
  {
   "cell_type": "code",
   "execution_count": 28,
   "id": "4f367fc3-e599-4dea-be62-e9fba718e9c0",
   "metadata": {},
   "outputs": [
    {
     "data": {
      "text/plain": [
       "<tf.Tensor: shape=(2, 2, 2, 2), dtype=int16, numpy=\n",
       "array([[[[0, 0],\n",
       "         [0, 0]],\n",
       "\n",
       "        [[0, 0],\n",
       "         [0, 0]]],\n",
       "\n",
       "\n",
       "       [[[0, 0],\n",
       "         [0, 0]],\n",
       "\n",
       "        [[0, 0],\n",
       "         [0, 0]]]], dtype=int16)>"
      ]
     },
     "execution_count": 28,
     "metadata": {},
     "output_type": "execute_result"
    }
   ],
   "source": [
    "# first two element of each dimention of D4_tensor \n",
    "D4_tensor[:2,:2,:2,:2]"
   ]
  },
  {
   "cell_type": "code",
   "execution_count": 29,
   "id": "ea2752c0-4c9d-4c15-ae56-5ed09c55d123",
   "metadata": {},
   "outputs": [
    {
     "data": {
      "text/plain": [
       "<tf.Tensor: shape=(2, 1, 1, 5), dtype=int16, numpy=\n",
       "array([[[[0, 0, 0, 0, 0]]],\n",
       "\n",
       "\n",
       "       [[[0, 0, 0, 0, 0]]]], dtype=int16)>"
      ]
     },
     "execution_count": 29,
     "metadata": {},
     "output_type": "execute_result"
    }
   ],
   "source": [
    "# Get the first element from each dim from each index except for the final one\n",
    "D4_tensor[:2,:1,:1,:]"
   ]
  },
  {
   "cell_type": "code",
   "execution_count": 30,
   "id": "58a35355-8a0e-4a4e-ba09-2ba228a9e4aa",
   "metadata": {},
   "outputs": [
    {
     "data": {
      "text/plain": [
       "(<tf.Tensor: shape=(2, 2), dtype=int32, numpy=\n",
       " array([[3, 5],\n",
       "        [2, 7]])>,\n",
       " 2)"
      ]
     },
     "execution_count": 30,
     "metadata": {},
     "output_type": "execute_result"
    }
   ],
   "source": [
    "rank2tensor = tf.constant([\n",
    "    [3,5],\n",
    "    [2,7]\n",
    "])\n",
    "rank2tensor , rank2tensor.ndim"
   ]
  },
  {
   "cell_type": "code",
   "execution_count": 31,
   "id": "aa897492-feae-4fca-9def-4e5345f02812",
   "metadata": {},
   "outputs": [
    {
     "data": {
      "text/plain": [
       "<tf.Tensor: shape=(2,), dtype=int32, numpy=array([5, 7])>"
      ]
     },
     "execution_count": 31,
     "metadata": {},
     "output_type": "execute_result"
    }
   ],
   "source": [
    "# to get the last item of each of rank of rank2tensor\n",
    "rank2tensor[:,-1]"
   ]
  },
  {
   "cell_type": "code",
   "execution_count": 32,
   "id": "49e14705-7668-4e5a-8e11-34fa718cd625",
   "metadata": {},
   "outputs": [
    {
     "data": {
      "text/plain": [
       "<tf.Tensor: shape=(2, 2, 1), dtype=int32, numpy=\n",
       "array([[[3],\n",
       "        [5]],\n",
       "\n",
       "       [[2],\n",
       "        [7]]])>"
      ]
     },
     "execution_count": 32,
     "metadata": {},
     "output_type": "execute_result"
    }
   ],
   "source": [
    "# add in extra dimention to our rank2tensor \n",
    "rank3tensor = rank2tensor[... , tf.newaxis]\n",
    "rank3tensor"
   ]
  },
  {
   "cell_type": "code",
   "execution_count": 33,
   "id": "99bf08a4-f4bf-4d49-a652-ce9d6fe93abc",
   "metadata": {},
   "outputs": [
    {
     "data": {
      "text/plain": [
       "<tf.Tensor: shape=(2, 2, 1), dtype=int32, numpy=\n",
       "array([[[3],\n",
       "        [5]],\n",
       "\n",
       "       [[2],\n",
       "        [7]]])>"
      ]
     },
     "execution_count": 33,
     "metadata": {},
     "output_type": "execute_result"
    }
   ],
   "source": [
    "tf.expand_dims(rank2tensor , axis = -1) #-1 is last dim"
   ]
  },
  {
   "cell_type": "markdown",
   "id": "6765a2d8-ac9c-45ba-be43-37ce23ba5c9a",
   "metadata": {},
   "source": [
    "##  Manipulating tensors with basic operations"
   ]
  },
  {
   "cell_type": "markdown",
   "id": "1769087d-be4c-410e-88b5-b9b9823a0839",
   "metadata": {},
   "source": [
    "**Basic Operation**\n",
    "`+`,`-`,`*`,`/`"
   ]
  },
  {
   "cell_type": "code",
   "execution_count": 34,
   "id": "0cae84fb-fbec-4169-b797-5d96a3e834f5",
   "metadata": {},
   "outputs": [
    {
     "data": {
      "text/plain": [
       "<tf.Tensor: shape=(2, 2), dtype=int32, numpy=\n",
       "array([[11, 12],\n",
       "       [13, 14]])>"
      ]
     },
     "execution_count": 34,
     "metadata": {},
     "output_type": "execute_result"
    }
   ],
   "source": [
    "tensor = tf.constant([[1,2] , [3,4]])\n",
    "tensor + 10"
   ]
  },
  {
   "cell_type": "code",
   "execution_count": 35,
   "id": "2d68aa4c-cb2d-4ff0-8e14-ad7cfb8d8c7f",
   "metadata": {},
   "outputs": [
    {
     "data": {
      "text/plain": [
       "<tf.Tensor: shape=(2, 2), dtype=int32, numpy=\n",
       "array([[1, 2],\n",
       "       [3, 4]])>"
      ]
     },
     "execution_count": 35,
     "metadata": {},
     "output_type": "execute_result"
    }
   ],
   "source": [
    "tensor"
   ]
  },
  {
   "cell_type": "code",
   "execution_count": 36,
   "id": "09663c85-f190-4173-bf95-565690be8a75",
   "metadata": {},
   "outputs": [
    {
     "data": {
      "text/plain": [
       "<tf.Tensor: shape=(2, 2), dtype=int32, numpy=\n",
       "array([[ 3,  6],\n",
       "       [ 9, 12]])>"
      ]
     },
     "execution_count": 36,
     "metadata": {},
     "output_type": "execute_result"
    }
   ],
   "source": [
    "tensor * 3"
   ]
  },
  {
   "cell_type": "code",
   "execution_count": 37,
   "id": "26c41b9d-d7ab-40e4-8abd-820935ea61fa",
   "metadata": {},
   "outputs": [
    {
     "data": {
      "text/plain": [
       "<tf.Tensor: shape=(2, 2), dtype=float64, numpy=\n",
       "array([[0.2, 0.4],\n",
       "       [0.6, 0.8]])>"
      ]
     },
     "execution_count": 37,
     "metadata": {},
     "output_type": "execute_result"
    }
   ],
   "source": [
    "tensor / 5"
   ]
  },
  {
   "cell_type": "code",
   "execution_count": 38,
   "id": "e3eae2a4-d5a7-490c-9c95-e0e7a7b5cf0c",
   "metadata": {},
   "outputs": [
    {
     "data": {
      "text/plain": [
       "<tf.Tensor: shape=(2, 2), dtype=int32, numpy=\n",
       "array([[ 3,  6],\n",
       "       [ 9, 12]])>"
      ]
     },
     "execution_count": 38,
     "metadata": {},
     "output_type": "execute_result"
    }
   ],
   "source": [
    "# we can use the tf built in function tool\n",
    "tf.math.multiply(tensor , 3)"
   ]
  },
  {
   "cell_type": "code",
   "execution_count": 39,
   "id": "d2921020-8474-49a1-a10a-76244e6152e8",
   "metadata": {},
   "outputs": [
    {
     "data": {
      "text/plain": [
       "<tf.Tensor: shape=(2, 2), dtype=int32, numpy=\n",
       "array([[11, 12],\n",
       "       [13, 14]])>"
      ]
     },
     "execution_count": 39,
     "metadata": {},
     "output_type": "execute_result"
    }
   ],
   "source": [
    "tf.math.add(tensor , 10)"
   ]
  },
  {
   "cell_type": "code",
   "execution_count": null,
   "id": "1454b1f0-e641-4d86-8062-1039942e490f",
   "metadata": {},
   "outputs": [],
   "source": []
  }
 ],
 "metadata": {
  "kernelspec": {
   "display_name": "Python 3 (ipykernel)",
   "language": "python",
   "name": "python3"
  },
  "language_info": {
   "codemirror_mode": {
    "name": "ipython",
    "version": 3
   },
   "file_extension": ".py",
   "mimetype": "text/x-python",
   "name": "python",
   "nbconvert_exporter": "python",
   "pygments_lexer": "ipython3",
   "version": "3.12.1"
  }
 },
 "nbformat": 4,
 "nbformat_minor": 5
}
