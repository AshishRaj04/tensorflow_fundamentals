{
 "cells": [
  {
   "cell_type": "markdown",
   "id": "e2279160-798b-4216-9cda-30bfe1a181e6",
   "metadata": {},
   "source": [
    "# Tensors using tensorflow"
   ]
  },
  {
   "cell_type": "markdown",
   "id": "e4a1e595-e1cf-4885-8444-c1ff2337b5ae",
   "metadata": {},
   "source": [
    "More specifically , we're going to cover :\n",
    "- Intro to tensors\n",
    "- Getting info from tensor\n",
    "- Manipulating tensors\n",
    "- Tensors & NumPy\n",
    "- Using @tf.function (a way to speed up your regular Python Function)\n",
    "- Using GPUs with TensorFlow (or TPUs)\n",
    "- Exercise to try for yourself"
   ]
  },
  {
   "cell_type": "markdown",
   "id": "8d20e265-d546-46db-9175-89c3ea98c6c8",
   "metadata": {},
   "source": [
    "# Introduction to TensorFlow"
   ]
  },
  {
   "cell_type": "code",
   "execution_count": 1,
   "id": "5c250a7b-7b21-4b9c-8b12-9926cc72d70e",
   "metadata": {},
   "outputs": [
    {
     "name": "stdout",
     "output_type": "stream",
     "text": [
      "2.16.1\n"
     ]
    }
   ],
   "source": [
    "import tensorflow as tf\n",
    "print(tf.__version__)"
   ]
  },
  {
   "cell_type": "code",
   "execution_count": 3,
   "id": "78eef66f-1f2f-417a-805d-890671a7085d",
   "metadata": {},
   "outputs": [
    {
     "data": {
      "text/plain": [
       "<tf.Tensor: shape=(), dtype=int32, numpy=7>"
      ]
     },
     "execution_count": 3,
     "metadata": {},
     "output_type": "execute_result"
    }
   ],
   "source": [
    "scalar = tf.constant(7)\n",
    "scalar"
   ]
  },
  {
   "cell_type": "code",
   "execution_count": 8,
   "id": "b6efc333-499f-4693-9daf-141ac139641b",
   "metadata": {},
   "outputs": [
    {
     "data": {
      "text/plain": [
       "<tf.Tensor: shape=(2,), dtype=int32, numpy=array([10, 20])>"
      ]
     },
     "execution_count": 8,
     "metadata": {},
     "output_type": "execute_result"
    }
   ],
   "source": [
    "\n",
    "vector = tf.constant([10 , 20])\n",
    "vector"
   ]
  },
  {
   "cell_type": "code",
   "execution_count": 9,
   "id": "08b1832f-bed0-4909-a379-29b508f68d0e",
   "metadata": {},
   "outputs": [
    {
     "name": "stdout",
     "output_type": "stream",
     "text": [
      "0\n",
      "1\n"
     ]
    }
   ],
   "source": [
    "print(scalar.ndim)\n",
    "print(vector.ndim)"
   ]
  },
  {
   "cell_type": "code",
   "execution_count": 10,
   "id": "6675e6d0-e92c-4069-900a-c448b95ea092",
   "metadata": {},
   "outputs": [],
   "source": [
    "matrix = tf.constant([[10 , 20],\n",
    "                     [30,40]])"
   ]
  },
  {
   "cell_type": "code",
   "execution_count": 11,
   "id": "9e03dc44-6672-4dab-ae9b-e0f9c5fc726f",
   "metadata": {},
   "outputs": [
    {
     "name": "stdout",
     "output_type": "stream",
     "text": [
      "tf.Tensor(\n",
      "[[10 20]\n",
      " [30 40]], shape=(2, 2), dtype=int32)\n",
      "2\n"
     ]
    }
   ],
   "source": [
    "print(matrix)\n",
    "print(matrix.ndim)"
   ]
  },
  {
   "cell_type": "code",
   "execution_count": 12,
   "id": "9df7d5ca-ce1a-4df4-8db9-a0f44becff56",
   "metadata": {},
   "outputs": [
    {
     "name": "stdout",
     "output_type": "stream",
     "text": [
      "tf.Tensor(\n",
      "[[[4. 4.]\n",
      "  [4. 4.]\n",
      "  [4. 4.]]\n",
      "\n",
      " [[4. 4.]\n",
      "  [4. 4.]\n",
      "  [4. 4.]]\n",
      "\n",
      " [[4. 4.]\n",
      "  [4. 4.]\n",
      "  [4. 4.]]\n",
      "\n",
      " [[4. 4.]\n",
      "  [4. 4.]\n",
      "  [4. 4.]]], shape=(4, 3, 2), dtype=float16)\n",
      "3\n"
     ]
    }
   ],
   "source": [
    "threeDTensor = tf.constant(4 , shape = (4,3,2) , dtype = tf.float16 )\n",
    "print(threeDTensor)\n",
    "print(threeDTensor.ndim)"
   ]
  },
  {
   "cell_type": "markdown",
   "id": "9707e28f-67ef-4ac3-a61a-06813c24720e",
   "metadata": {},
   "source": [
    "What we have created so far :\n",
    "* Scalar : a single number\n",
    "* Vector : a number with direction\n",
    "* Matrix : a 2-dimentional array of numbers\n",
    "* Tensor : a n-dimentional array of numbers\n",
    "* In fact all are tensors with different dimentions ."
   ]
  },
  {
   "cell_type": "markdown",
   "id": "f9fdc801-b2c7-491b-b286-306f67a84b1d",
   "metadata": {},
   "source": [
    "## tf.variable\n",
    "The Variable() constructor requires an initial value for the variable, which can be a Tensor of any type and shape. This initial value defines the type and shape of the variable. After construction, the type and shape of the variable are fixed. The value can be changed"
   ]
  },
  {
   "cell_type": "code",
   "execution_count": 13,
   "id": "65a3457d-6547-4931-b9a1-18de82bf5d21",
   "metadata": {},
   "outputs": [
    {
     "data": {
      "text/plain": [
       "<tf.Variable 'Variable:0' shape=(2,) dtype=int32, numpy=array([10,  4])>"
      ]
     },
     "execution_count": 13,
     "metadata": {},
     "output_type": "execute_result"
    }
   ],
   "source": [
    "var = tf.Variable([10,4])\n",
    "var"
   ]
  },
  {
   "cell_type": "code",
   "execution_count": 23,
   "id": "b173e80a-42a1-4e8c-bdad-2af586ad9e7e",
   "metadata": {},
   "outputs": [
    {
     "data": {
      "text/plain": [
       "<tf.Variable 'UnreadVariable' shape=(2,) dtype=int32, numpy=array([12,  5])>"
      ]
     },
     "execution_count": 23,
     "metadata": {},
     "output_type": "execute_result"
    }
   ],
   "source": [
    "var.assign([12,5])"
   ]
  },
  {
   "cell_type": "code",
   "execution_count": 26,
   "id": "568866a8-d46c-4ceb-ae80-7250a522df6a",
   "metadata": {},
   "outputs": [
    {
     "data": {
      "text/plain": [
       "<tf.Variable 'UnreadVariable' shape=(2,) dtype=int32, numpy=array([14,  8])>"
      ]
     },
     "execution_count": 26,
     "metadata": {},
     "output_type": "execute_result"
    }
   ],
   "source": [
    "var.assign_add([2,3])"
   ]
  },
  {
   "cell_type": "code",
   "execution_count": null,
   "id": "b17d006d-815d-4fa5-a3d0-38632e6a5480",
   "metadata": {},
   "outputs": [],
   "source": []
  }
 ],
 "metadata": {
  "kernelspec": {
   "display_name": "Python 3 (ipykernel)",
   "language": "python",
   "name": "python3"
  },
  "language_info": {
   "codemirror_mode": {
    "name": "ipython",
    "version": 3
   },
   "file_extension": ".py",
   "mimetype": "text/x-python",
   "name": "python",
   "nbconvert_exporter": "python",
   "pygments_lexer": "ipython3",
   "version": "3.12.1"
  }
 },
 "nbformat": 4,
 "nbformat_minor": 5
}
