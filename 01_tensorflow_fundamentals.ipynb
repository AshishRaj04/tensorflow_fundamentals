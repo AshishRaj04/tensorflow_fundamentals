{
 "cells": [
  {
   "cell_type": "code",
   "execution_count": 1,
   "id": "b9510791-3de3-4345-8d51-6160311c67ca",
   "metadata": {},
   "outputs": [],
   "source": [
    "import tensorflow as tf\n",
    "import numpy as np"
   ]
  },
  {
   "cell_type": "markdown",
   "id": "8cf9649a-c6b3-4dad-85b2-937713957053",
   "metadata": {},
   "source": [
    "## Matrix multiplication"
   ]
  },
  {
   "cell_type": "code",
   "execution_count": 2,
   "id": "7ca4afaf-9435-4095-b2b8-2520c9598920",
   "metadata": {},
   "outputs": [],
   "source": [
    "a = tf.constant([3,5,6,14] , shape = (1 , 4))\n",
    "b = tf.constant([3,4,15,6,2,5,3,4] , shape = (4 , 2))"
   ]
  },
  {
   "cell_type": "code",
   "execution_count": 3,
   "id": "11476b42-a6cc-42a1-b71f-1ddade9f85c5",
   "metadata": {},
   "outputs": [
    {
     "data": {
      "text/plain": [
       "<tf.Tensor: shape=(1, 2), dtype=int32, numpy=array([[138, 128]])>"
      ]
     },
     "execution_count": 3,
     "metadata": {},
     "output_type": "execute_result"
    }
   ],
   "source": [
    "tf.linalg.matmul(a , b)"
   ]
  },
  {
   "cell_type": "code",
   "execution_count": 4,
   "id": "b68259eb-943d-4c73-826c-b60a36073689",
   "metadata": {},
   "outputs": [
    {
     "data": {
      "text/plain": [
       "<tf.Tensor: shape=(1, 2), dtype=int32, numpy=array([[138, 128]])>"
      ]
     },
     "execution_count": 4,
     "metadata": {},
     "output_type": "execute_result"
    }
   ],
   "source": [
    "# matrix mul with python operator @\n",
    "a @ b"
   ]
  },
  {
   "cell_type": "code",
   "execution_count": 5,
   "id": "38b164f0-220a-441d-a1f4-245a20ec7d20",
   "metadata": {},
   "outputs": [
    {
     "data": {
      "text/plain": [
       "(<tf.Tensor: shape=(3, 2), dtype=int32, numpy=\n",
       " array([[1, 2],\n",
       "        [3, 4],\n",
       "        [5, 6]])>,\n",
       " <tf.Tensor: shape=(2, 3), dtype=int32, numpy=\n",
       " array([[ 7,  8,  9],\n",
       "        [10, 11, 12]])>)"
      ]
     },
     "execution_count": 5,
     "metadata": {},
     "output_type": "execute_result"
    }
   ],
   "source": [
    "X = tf.constant([1,2,3,4,5,6] , shape = (3,2))\n",
    "Y = tf.constant([7,8,9,10,11,12] , shape = (2,3))\n",
    "X,  Y"
   ]
  },
  {
   "cell_type": "code",
   "execution_count": 6,
   "id": "af9b64fc-9543-4464-b966-414f4cf73b61",
   "metadata": {},
   "outputs": [
    {
     "data": {
      "text/plain": [
       "<tf.Tensor: shape=(3, 3), dtype=int32, numpy=\n",
       "array([[ 27,  30,  33],\n",
       "       [ 61,  68,  75],\n",
       "       [ 95, 106, 117]])>"
      ]
     },
     "execution_count": 6,
     "metadata": {},
     "output_type": "execute_result"
    }
   ],
   "source": [
    "tf.matmul(X,Y)"
   ]
  },
  {
   "cell_type": "markdown",
   "id": "db8e0bfa-b3f7-43cd-b656-242c132fe2b0",
   "metadata": {},
   "source": [
    "## Changing the datatype of tensors\n",
    "CODE -> `tf.cast(x, dtype)\n",
    ")`\n",
    "**Casts a tensor to a new type.**"
   ]
  },
  {
   "cell_type": "code",
   "execution_count": 7,
   "id": "9be686a3-6887-407c-8472-318405beabac",
   "metadata": {},
   "outputs": [
    {
     "data": {
      "text/plain": [
       "<tf.Tensor: shape=(2, 2), dtype=float32, numpy=\n",
       "array([[1. , 2.1],\n",
       "       [4. , 1. ]], dtype=float32)>"
      ]
     },
     "execution_count": 7,
     "metadata": {},
     "output_type": "execute_result"
    }
   ],
   "source": [
    "B = tf.constant([1,2.1,4,1] ,  shape = (2,2) )\n",
    "B"
   ]
  },
  {
   "cell_type": "code",
   "execution_count": 8,
   "id": "34d71ee7-9c36-4231-948e-687d89396dd5",
   "metadata": {},
   "outputs": [
    {
     "data": {
      "text/plain": [
       "<tf.Tensor: shape=(2, 2), dtype=float16, numpy=\n",
       "array([[1. , 2.1],\n",
       "       [4. , 1. ]], dtype=float16)>"
      ]
     },
     "execution_count": 8,
     "metadata": {},
     "output_type": "execute_result"
    }
   ],
   "source": [
    "## Changing float32 to float16\n",
    "D = tf.cast(B , dtype = tf.float16)\n",
    "D"
   ]
  },
  {
   "cell_type": "markdown",
   "id": "ecb88fee-bc0f-49cf-898d-8d71ff0ce4ec",
   "metadata": {},
   "source": [
    "## Aggregating tensors\n",
    "\n",
    "Aggregating tensors means condensing them from multipe values to a smaller amount of value . \n",
    "**Go through following aggregations:**\n",
    "* minimum\n",
    "* maximum\n",
    "* mean\n",
    "* sum"
   ]
  },
  {
   "cell_type": "code",
   "execution_count": 9,
   "id": "96fe7a5f-ffa4-4079-a693-d982a9204d86",
   "metadata": {},
   "outputs": [
    {
     "data": {
      "text/plain": [
       "<tf.Tensor: shape=(50,), dtype=int32, numpy=\n",
       "array([48, 47, 20, 80, 20, 49,  2, 32, 54, 19, 81, 38, 22, 36, 51, 84, 39,\n",
       "       14, 75, 14,  2, 97, 24, 31, 36, 42, 35, 68, 62, 86, 91, 63, 28, 42,\n",
       "       21, 94,  7, 13, 47, 29, 54, 66, 18, 39,  3, 98, 34, 93, 72, 43])>"
      ]
     },
     "execution_count": 9,
     "metadata": {},
     "output_type": "execute_result"
    }
   ],
   "source": [
    "largeTensor = tf.constant(np.random.randint(0,100 , size = 50))\n",
    "largeTensor\n",
    "# tf.reduce_min(largeTensor)"
   ]
  },
  {
   "cell_type": "code",
   "execution_count": 10,
   "id": "45477189-5c75-4818-8e05-18a6d7f048db",
   "metadata": {},
   "outputs": [
    {
     "data": {
      "text/plain": [
       "<tf.Tensor: shape=(), dtype=int32, numpy=2>"
      ]
     },
     "execution_count": 10,
     "metadata": {},
     "output_type": "execute_result"
    }
   ],
   "source": [
    "tf.reduce_min(largeTensor)"
   ]
  },
  {
   "cell_type": "code",
   "execution_count": 11,
   "id": "cb5d6ca6-0cac-4111-8826-5c35eef048b3",
   "metadata": {},
   "outputs": [
    {
     "data": {
      "text/plain": [
       "<tf.Tensor: shape=(), dtype=int32, numpy=98>"
      ]
     },
     "execution_count": 11,
     "metadata": {},
     "output_type": "execute_result"
    }
   ],
   "source": [
    "tf.reduce_max(largeTensor)"
   ]
  },
  {
   "cell_type": "code",
   "execution_count": 12,
   "id": "dd98ea26-5739-4290-9d84-5fe5f8aa5999",
   "metadata": {},
   "outputs": [
    {
     "data": {
      "text/plain": [
       "<tf.Tensor: shape=(), dtype=int32, numpy=45>"
      ]
     },
     "execution_count": 12,
     "metadata": {},
     "output_type": "execute_result"
    }
   ],
   "source": [
    "tf.reduce_mean(largeTensor)"
   ]
  },
  {
   "cell_type": "code",
   "execution_count": 13,
   "id": "c8b0f7c8-a6c7-4c2d-93ca-5ac97b6e23bf",
   "metadata": {},
   "outputs": [
    {
     "data": {
      "text/plain": [
       "<tf.Tensor: shape=(), dtype=int32, numpy=2263>"
      ]
     },
     "execution_count": 13,
     "metadata": {},
     "output_type": "execute_result"
    }
   ],
   "source": [
    "tf.reduce_sum(largeTensor)"
   ]
  },
  {
   "cell_type": "code",
   "execution_count": 14,
   "id": "104ff344-9f8c-4899-9522-f3891cfa5791",
   "metadata": {},
   "outputs": [
    {
     "data": {
      "text/plain": [
       "<tf.Tensor: shape=(2,), dtype=complex64, numpy=array([2.25+4.75j, 3.25+5.75j], dtype=complex64)>"
      ]
     },
     "execution_count": 14,
     "metadata": {},
     "output_type": "execute_result"
    }
   ],
   "source": [
    "real = tf.constant([2.25, 3.25])\n",
    "imag = tf.constant([4.75, 5.75])\n",
    "complex = tf.complex(real, imag) \n",
    "complex"
   ]
  },
  {
   "cell_type": "code",
   "execution_count": 15,
   "id": "470d848f-685e-4147-8f1b-82a220fbc13c",
   "metadata": {},
   "outputs": [
    {
     "data": {
      "text/plain": [
       "<tf.Tensor: shape=(2,), dtype=float32, numpy=array([5.255949 , 6.6049223], dtype=float32)>"
      ]
     },
     "execution_count": 15,
     "metadata": {},
     "output_type": "execute_result"
    }
   ],
   "source": [
    "tf.abs(complex) # square root of real2 + imag2"
   ]
  },
  {
   "cell_type": "markdown",
   "id": "0e10e8e6-f477-4d02-9ee9-4ac5e38fa61c",
   "metadata": {},
   "source": [
    "`tf.math.maximum(x, y)`-Returns the max of x and y (i.e. x > y ? x : y) element-wise."
   ]
  },
  {
   "cell_type": "markdown",
   "id": "8b35981a-7ae3-4ed9-9eff-555012434e59",
   "metadata": {},
   "source": [
    "`tf.math.minimum(x, y)` - Returns the min of x and y (i.e. x < y ? x : y) element-wise."
   ]
  },
  {
   "cell_type": "code",
   "execution_count": 16,
   "id": "1caa6de6-9cfb-49bb-a0f4-f87dbb385982",
   "metadata": {},
   "outputs": [],
   "source": [
    "x = tf.constant([0., 0., 0., 0.])\n",
    "y = tf.constant([-2., 0., 2., 5.])"
   ]
  },
  {
   "cell_type": "code",
   "execution_count": 17,
   "id": "13b751f8-6f2e-42cc-a6e8-9f2f8a589e6d",
   "metadata": {},
   "outputs": [
    {
     "data": {
      "text/plain": [
       "<tf.Tensor: shape=(4,), dtype=float32, numpy=array([0., 0., 2., 5.], dtype=float32)>"
      ]
     },
     "execution_count": 17,
     "metadata": {},
     "output_type": "execute_result"
    }
   ],
   "source": [
    "tf.math.maximum(x, y)"
   ]
  },
  {
   "cell_type": "code",
   "execution_count": 18,
   "id": "88fddb1c-8b81-4c3a-b406-e131b3fa69a6",
   "metadata": {},
   "outputs": [
    {
     "data": {
      "text/plain": [
       "<tf.Tensor: shape=(4,), dtype=float32, numpy=array([-2.,  0.,  0.,  0.], dtype=float32)>"
      ]
     },
     "execution_count": 18,
     "metadata": {},
     "output_type": "execute_result"
    }
   ],
   "source": [
    "tf.math.minimum(x,y)"
   ]
  },
  {
   "cell_type": "markdown",
   "id": "1ab42c45-2490-4120-abf4-3b8e3a1bf803",
   "metadata": {},
   "source": [
    "### you need to cast int type to float type inorder to find variance and standard deviation\n",
    "* Variance\n",
    "* Standard Deviation"
   ]
  },
  {
   "cell_type": "code",
   "execution_count": 19,
   "id": "5eda5bc7-1dad-4245-9b67-da6bdd1568c5",
   "metadata": {},
   "outputs": [
    {
     "data": {
      "text/plain": [
       "<tf.Tensor: shape=(30,), dtype=int32, numpy=\n",
       "array([ 7, 26, 38,  4, 34, 19, 30, 16, 38, 44, 16, 43, 43, 30, 11, 44,  1,\n",
       "       32, 28, 11, 39, 15, 15,  5, 28, 38, 37, 43,  6, 44])>"
      ]
     },
     "execution_count": 19,
     "metadata": {},
     "output_type": "execute_result"
    }
   ],
   "source": [
    "aTensor = tf.constant(np.random.randint(1,50 , size = 30))\n",
    "aTensor"
   ]
  },
  {
   "cell_type": "code",
   "execution_count": 20,
   "id": "5b74a045-4238-4fd6-a488-e68fc4d76ece",
   "metadata": {},
   "outputs": [
    {
     "data": {
      "text/plain": [
       "<tf.Tensor: shape=(), dtype=float16, numpy=14.086>"
      ]
     },
     "execution_count": 20,
     "metadata": {},
     "output_type": "execute_result"
    }
   ],
   "source": [
    "tf.math.reduce_std(tf.cast(aTensor , dtype = tf.float16))"
   ]
  },
  {
   "cell_type": "code",
   "execution_count": 21,
   "id": "54e13ac3-ab1f-43a0-b949-df1b06085e7e",
   "metadata": {},
   "outputs": [
    {
     "data": {
      "text/plain": [
       "<tf.Tensor: shape=(), dtype=float16, numpy=198.4>"
      ]
     },
     "execution_count": 21,
     "metadata": {},
     "output_type": "execute_result"
    }
   ],
   "source": [
    "tf.math.reduce_variance(tf.cast(aTensor , dtype = tf.float16))"
   ]
  },
  {
   "cell_type": "code",
   "execution_count": 22,
   "id": "53ff1e34-e1ad-4597-a101-fcffd668d1af",
   "metadata": {},
   "outputs": [
    {
     "data": {
      "text/plain": [
       "223.353025"
      ]
     },
     "execution_count": 22,
     "metadata": {},
     "output_type": "execute_result"
    }
   ],
   "source": [
    "14.945 * 14.945"
   ]
  },
  {
   "cell_type": "markdown",
   "id": "7d144bd2-d258-4146-bef4-ff9effda98d9",
   "metadata": {},
   "source": [
    "## Find the positional min and max of a tensor"
   ]
  },
  {
   "cell_type": "code",
   "execution_count": 23,
   "id": "139090e3-5054-4544-ba21-eda6d53a6f87",
   "metadata": {},
   "outputs": [
    {
     "data": {
      "text/plain": [
       "<tf.Tensor: shape=(30,), dtype=float32, numpy=\n",
       "array([29.088106, 23.343105, 29.843292, 29.340525, 21.855835, 37.77796 ,\n",
       "       37.395203, 36.649136, 13.020673, 12.643566, 46.57147 , 18.792934,\n",
       "       12.65872 , 25.194826, 45.283665, 39.249634, 33.672516, 49.143494,\n",
       "       13.75082 , 25.080433, 18.222208, 21.202364, 27.66901 , 46.799065,\n",
       "       29.949207, 14.106431, 14.87103 , 14.208298, 19.019165, 25.66248 ],\n",
       "      dtype=float32)>"
      ]
     },
     "execution_count": 23,
     "metadata": {},
     "output_type": "execute_result"
    }
   ],
   "source": [
    "tf.random.set_seed(12)\n",
    "E = tf.random.uniform(shape = [30] , minval = 10 , maxval = 50)\n",
    "E"
   ]
  },
  {
   "cell_type": "code",
   "execution_count": 24,
   "id": "c1f0de6e-4213-41a3-8eb3-b2f404edc9b3",
   "metadata": {},
   "outputs": [
    {
     "data": {
      "text/plain": [
       "<tf.Tensor: shape=(), dtype=int64, numpy=17>"
      ]
     },
     "execution_count": 24,
     "metadata": {},
     "output_type": "execute_result"
    }
   ],
   "source": [
    "tf.argmax(E)"
   ]
  },
  {
   "cell_type": "code",
   "execution_count": 25,
   "id": "38338306-050a-4e24-a52d-c6ec2c2d39f2",
   "metadata": {},
   "outputs": [
    {
     "data": {
      "text/plain": [
       "<tf.Tensor: shape=(), dtype=int64, numpy=9>"
      ]
     },
     "execution_count": 25,
     "metadata": {},
     "output_type": "execute_result"
    }
   ],
   "source": [
    "tf.argmin(E)"
   ]
  },
  {
   "cell_type": "markdown",
   "id": "1a04588a-fe2e-4c40-af0d-3d2facca514b",
   "metadata": {},
   "source": [
    "## Squeezing a tensor"
   ]
  },
  {
   "cell_type": "markdown",
   "id": "ac5e7203-5de4-4306-8a30-672c2a994281",
   "metadata": {},
   "source": [
    "**Removing all single Dimention . Or Removes dimensions of size 1 from the shape of a tensor.**"
   ]
  },
  {
   "cell_type": "code",
   "execution_count": 26,
   "id": "b4a23c75-194d-48f5-82fa-d6e16dcf98d1",
   "metadata": {},
   "outputs": [
    {
     "data": {
      "text/plain": [
       "<tf.Tensor: shape=(1, 1, 2, 1, 20), dtype=float32, numpy=\n",
       "array([[[[[10.497437, 27.224417, 14.629588, 18.523066, 11.406674,\n",
       "           21.680355, 24.026978, 25.09984 , 16.273396, 11.75683 ,\n",
       "           21.50013 , 18.283989, 26.477444, 29.076046, 23.338562,\n",
       "           26.951647, 29.674093, 20.36684 , 21.72562 , 22.760288]],\n",
       "\n",
       "         [[16.433006, 20.147207, 15.564766, 23.285728, 29.70436 ,\n",
       "           14.711299, 22.11632 , 15.531278, 10.100622, 21.833553,\n",
       "           15.531799, 13.841249, 24.958588, 18.465822, 17.16052 ,\n",
       "           11.871317, 26.184002, 29.532513, 27.831623, 13.608673]]]]],\n",
       "      dtype=float32)>"
      ]
     },
     "execution_count": 26,
     "metadata": {},
     "output_type": "execute_result"
    }
   ],
   "source": [
    "tf.random.set_seed(21)\n",
    "F = tf.random.uniform(shape = (1,1,2,1,20) , minval = 10 , maxval = 30)\n",
    "F"
   ]
  },
  {
   "cell_type": "code",
   "execution_count": 27,
   "id": "b6e12613-78da-45ad-be46-5c974428a967",
   "metadata": {},
   "outputs": [
    {
     "data": {
      "text/plain": [
       "<tf.Tensor: shape=(2, 20), dtype=float32, numpy=\n",
       "array([[10.497437, 27.224417, 14.629588, 18.523066, 11.406674, 21.680355,\n",
       "        24.026978, 25.09984 , 16.273396, 11.75683 , 21.50013 , 18.283989,\n",
       "        26.477444, 29.076046, 23.338562, 26.951647, 29.674093, 20.36684 ,\n",
       "        21.72562 , 22.760288],\n",
       "       [16.433006, 20.147207, 15.564766, 23.285728, 29.70436 , 14.711299,\n",
       "        22.11632 , 15.531278, 10.100622, 21.833553, 15.531799, 13.841249,\n",
       "        24.958588, 18.465822, 17.16052 , 11.871317, 26.184002, 29.532513,\n",
       "        27.831623, 13.608673]], dtype=float32)>"
      ]
     },
     "execution_count": 27,
     "metadata": {},
     "output_type": "execute_result"
    }
   ],
   "source": [
    "G_Squeezed = tf.squeeze(F)\n",
    "G_Squeezed"
   ]
  },
  {
   "cell_type": "markdown",
   "id": "c27941fd-173c-4208-9b1b-320eeae0a35d",
   "metadata": {},
   "source": [
    "##  One-hot encoding tensors"
   ]
  },
  {
   "cell_type": "code",
   "execution_count": 28,
   "id": "badfb4ad-c23d-4caf-ad10-8ceb675d13f6",
   "metadata": {},
   "outputs": [
    {
     "ename": "NameError",
     "evalue": "name 'deapth' is not defined",
     "output_type": "error",
     "traceback": [
      "\u001b[1;31m---------------------------------------------------------------------------\u001b[0m",
      "\u001b[1;31mNameError\u001b[0m                                 Traceback (most recent call last)",
      "Cell \u001b[1;32mIn[28], line 3\u001b[0m\n\u001b[0;32m      1\u001b[0m indices \u001b[38;5;241m=\u001b[39m [\u001b[38;5;241m0\u001b[39m,\u001b[38;5;241m1\u001b[39m,\u001b[38;5;241m2\u001b[39m] \u001b[38;5;66;03m# consider it like index of traning examples . Like red , green , blue\u001b[39;00m\n\u001b[0;32m      2\u001b[0m depth \u001b[38;5;241m=\u001b[39m \u001b[38;5;241m4\u001b[39m \u001b[38;5;66;03m# consider it like number of features . Like pen1 , pen2 , pen3 , pen4\u001b[39;00m\n\u001b[1;32m----> 3\u001b[0m tf\u001b[38;5;241m.\u001b[39mone_hot(indices , \u001b[43mdeapth\u001b[49m)\n",
      "\u001b[1;31mNameError\u001b[0m: name 'deapth' is not defined"
     ]
    }
   ],
   "source": [
    "indices = [0,1,2] # consider it like index of traning examples . Like red , green , blue\n",
    "depth = 4 # consider it like number of features . Like pen1 , pen2 , pen3 , pen4\n",
    "tf.one_hot(indices , deapth)"
   ]
  },
  {
   "cell_type": "code",
   "execution_count": null,
   "id": "81e5bcbb-2e6f-4ea7-bae9-9673ca975958",
   "metadata": {},
   "outputs": [],
   "source": [
    "indices = [[1,4] , [2,5]]\n",
    "depth = 3\n",
    "on_value = 5\n",
    "off_value = 0\n",
    "tf.one_hot(indices , depth , on_value , off_value)"
   ]
  },
  {
   "cell_type": "markdown",
   "id": "0ab5159f-99f1-49b7-9a8b-21f0041d823e",
   "metadata": {},
   "source": [
    "## Trying out more tensor math operations"
   ]
  },
  {
   "cell_type": "markdown",
   "id": "8c5c84fd-3b7b-4320-afcc-3803775597d8",
   "metadata": {},
   "source": [
    "* squaring\n",
    "* log\n",
    "* square root"
   ]
  },
  {
   "cell_type": "code",
   "execution_count": null,
   "id": "ad023c4f-5e45-4283-84f8-33ed5fc0f421",
   "metadata": {},
   "outputs": [],
   "source": [
    "H = tf.range(1,10)\n",
    "H"
   ]
  },
  {
   "cell_type": "code",
   "execution_count": null,
   "id": "02a913c8-770c-4fc7-9992-adb34a35bf1e",
   "metadata": {},
   "outputs": [],
   "source": [
    "tf.math.square(H)"
   ]
  },
  {
   "cell_type": "code",
   "execution_count": null,
   "id": "8f09ea7b-00ca-4459-9a7a-fbe17af9bed3",
   "metadata": {},
   "outputs": [],
   "source": [
    "tf.math.log(tf.cast(H , dtype = tf.float16)) # natural log"
   ]
  },
  {
   "cell_type": "code",
   "execution_count": null,
   "id": "f0f22d98-85ba-4c69-90e0-d1c882391c09",
   "metadata": {},
   "outputs": [],
   "source": [
    "tf.math.sqrt(tf.cast(H , dtype = tf.float16))"
   ]
  },
  {
   "cell_type": "markdown",
   "id": "9bd524c0-1678-44bb-bd10-90d8b4b6a9f4",
   "metadata": {},
   "source": [
    "##  Using TensorFlow with NumPy"
   ]
  },
  {
   "cell_type": "markdown",
   "id": "218328cc-68c2-43aa-912c-d2ccf208445d",
   "metadata": {},
   "source": [
    "Tensorflow interacts beautifully with numpy arrays"
   ]
  },
  {
   "cell_type": "code",
   "execution_count": null,
   "id": "b0820df8-c254-457f-b5e9-ec5217d0acfb",
   "metadata": {},
   "outputs": [],
   "source": [
    "# Create tensorflow directly from a numpy array\n",
    "J = tf.constant(np.array([3,4,5]))\n",
    "J"
   ]
  },
  {
   "cell_type": "code",
   "execution_count": null,
   "id": "e848ff39-71fb-4f6f-9fb6-f7e7f1f91bce",
   "metadata": {},
   "outputs": [],
   "source": [
    "# Convert our tensor back to numpy array\n",
    "N = np.array(J) \n",
    "N , type(N)"
   ]
  },
  {
   "cell_type": "code",
   "execution_count": null,
   "id": "fc069dcf-57d1-4836-8db4-79e1041ac6d7",
   "metadata": {},
   "outputs": [],
   "source": [
    "J.numpy()"
   ]
  },
  {
   "cell_type": "code",
   "execution_count": null,
   "id": "45663097-8fd3-44fa-af83-e30f8297ddb3",
   "metadata": {},
   "outputs": [],
   "source": []
  }
 ],
 "metadata": {
  "kernelspec": {
   "display_name": "Python 3 (ipykernel)",
   "language": "python",
   "name": "python3"
  },
  "language_info": {
   "codemirror_mode": {
    "name": "ipython",
    "version": 3
   },
   "file_extension": ".py",
   "mimetype": "text/x-python",
   "name": "python",
   "nbconvert_exporter": "python",
   "pygments_lexer": "ipython3",
   "version": "3.12.1"
  }
 },
 "nbformat": 4,
 "nbformat_minor": 5
}
